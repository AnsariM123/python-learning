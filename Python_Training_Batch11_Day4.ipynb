{
 "cells": [
  {
   "cell_type": "code",
   "execution_count": null,
   "metadata": {},
   "outputs": [],
   "source": [
    "#Introduction to list data types :\n",
    "# List is a Mutable data types"
   ]
  },
  {
   "cell_type": "code",
   "execution_count": 4,
   "metadata": {},
   "outputs": [
    {
     "name": "stdout",
     "output_type": "stream",
     "text": [
      "['Adam', 'sam', 'john', 'zaki', 'Mohammad']\n"
     ]
    }
   ],
   "source": [
    "#List declaration :\n",
    "student = ['Adam','sam','john','zaki','Mohammad']\n",
    "print(student)"
   ]
  },
  {
   "cell_type": "code",
   "execution_count": 2,
   "metadata": {},
   "outputs": [
    {
     "name": "stdout",
     "output_type": "stream",
     "text": [
      "John\n"
     ]
    }
   ],
   "source": [
    "print(student[2])"
   ]
  },
  {
   "cell_type": "code",
   "execution_count": null,
   "metadata": {},
   "outputs": [],
   "source": [
    "#Indexin starts with : 0-1-2-3----->"
   ]
  },
  {
   "cell_type": "code",
   "execution_count": 6,
   "metadata": {},
   "outputs": [
    {
     "name": "stdout",
     "output_type": "stream",
     "text": [
      "Sam\n"
     ]
    }
   ],
   "source": [
    "print(student[1].title())"
   ]
  },
  {
   "cell_type": "code",
   "execution_count": 9,
   "metadata": {},
   "outputs": [
    {
     "name": "stdout",
     "output_type": "stream",
     "text": [
      "['Adam', 'sam', 'john', 'zaki', 'Mohammad']\n"
     ]
    }
   ],
   "source": [
    "print(student)"
   ]
  },
  {
   "cell_type": "code",
   "execution_count": 12,
   "metadata": {},
   "outputs": [
    {
     "name": "stdout",
     "output_type": "stream",
     "text": [
      "keep up the good work,John\n"
     ]
    }
   ],
   "source": [
    "message = f\"keep up the good work,{student[2].title()}\"\n",
    "print(message)"
   ]
  },
  {
   "cell_type": "code",
   "execution_count": 13,
   "metadata": {},
   "outputs": [
    {
     "name": "stdout",
     "output_type": "stream",
     "text": [
      "keep up the good work,Zaki\n"
     ]
    }
   ],
   "source": [
    "message = f\"keep up the good work,{student[3].title()}\"\n",
    "print(message)"
   ]
  },
  {
   "cell_type": "code",
   "execution_count": 14,
   "metadata": {},
   "outputs": [],
   "source": [
    "#Adding, Changing, Modifying and Deleting a List :"
   ]
  },
  {
   "cell_type": "code",
   "execution_count": 15,
   "metadata": {},
   "outputs": [
    {
     "name": "stdout",
     "output_type": "stream",
     "text": [
      "['Adam', 'sam', 'john', 'zaki', 'Mohammad']\n"
     ]
    }
   ],
   "source": [
    "print(student)"
   ]
  },
  {
   "cell_type": "code",
   "execution_count": 17,
   "metadata": {},
   "outputs": [
    {
     "name": "stdout",
     "output_type": "stream",
     "text": [
      "['Adam', 'sam', 'john', 'zaki', 'Mohammad', 'yaqoob', 'yaqoob']\n"
     ]
    }
   ],
   "source": [
    "#Adding element in to a list :\n",
    "student.append('yaqoob')    #Note : append will add element at the END of the list\n",
    "print(student)"
   ]
  },
  {
   "cell_type": "code",
   "execution_count": 18,
   "metadata": {},
   "outputs": [
    {
     "name": "stdout",
     "output_type": "stream",
     "text": [
      "['Adam', 'sam', 'Swati', 'john', 'zaki', 'Mohammad', 'yaqoob', 'yaqoob']\n"
     ]
    }
   ],
   "source": [
    "# adding Element In-Between :  Inserts in-between:\n",
    "student.insert(2,'Swati')\n",
    "print(student)"
   ]
  },
  {
   "cell_type": "code",
   "execution_count": 19,
   "metadata": {},
   "outputs": [
    {
     "name": "stdout",
     "output_type": "stream",
     "text": [
      "['Shankar', 'sam', 'Swati', 'john', 'zaki', 'Mohammad', 'yaqoob', 'yaqoob']\n"
     ]
    }
   ],
   "source": [
    "#How to Modify/ Change an Element in the list :\n",
    "\n",
    "# Replace Adam by Shankar :\n",
    "student[0]= 'Shankar'\n",
    "print(student)"
   ]
  },
  {
   "cell_type": "code",
   "execution_count": 20,
   "metadata": {},
   "outputs": [
    {
     "data": {
      "text/plain": [
       "'yaqoob'"
      ]
     },
     "execution_count": 20,
     "metadata": {},
     "output_type": "execute_result"
    }
   ],
   "source": [
    "#How to delete an Element in the List student :\n",
    "student.pop()    # pop deletes element from the list position of the list by Default : "
   ]
  },
  {
   "cell_type": "code",
   "execution_count": 21,
   "metadata": {},
   "outputs": [
    {
     "name": "stdout",
     "output_type": "stream",
     "text": [
      "['Shankar', 'sam', 'Swati', 'john', 'zaki', 'Mohammad', 'yaqoob']\n"
     ]
    }
   ],
   "source": [
    "print(student)"
   ]
  },
  {
   "cell_type": "code",
   "execution_count": 22,
   "metadata": {},
   "outputs": [
    {
     "data": {
      "text/plain": [
       "'Swati'"
      ]
     },
     "execution_count": 22,
     "metadata": {},
     "output_type": "execute_result"
    }
   ],
   "source": [
    "#Deleting an element from a specific position\n",
    "student.pop(2)   # Note : pop() method will not delete items permanently. It will keep them as Backup "
   ]
  },
  {
   "cell_type": "code",
   "execution_count": 23,
   "metadata": {
    "scrolled": true
   },
   "outputs": [
    {
     "name": "stdout",
     "output_type": "stream",
     "text": [
      "['Shankar', 'sam', 'john', 'zaki', 'Mohammad', 'yaqoob']\n"
     ]
    }
   ],
   "source": [
    "print(student)"
   ]
  },
  {
   "cell_type": "code",
   "execution_count": 24,
   "metadata": {},
   "outputs": [
    {
     "name": "stdout",
     "output_type": "stream",
     "text": [
      "['Shankar', 'sam', 'zaki', 'Mohammad', 'yaqoob']\n"
     ]
    }
   ],
   "source": [
    "#Deleting Specific element using remove() method\n",
    "student.remove('john')\n",
    "print(student)"
   ]
  },
  {
   "cell_type": "code",
   "execution_count": 25,
   "metadata": {},
   "outputs": [],
   "source": [
    "# Intro to Organization List :\n",
    "mystudent=['manoj','kishore','sateesh','ram','karnati']"
   ]
  },
  {
   "cell_type": "code",
   "execution_count": 26,
   "metadata": {},
   "outputs": [
    {
     "name": "stdout",
     "output_type": "stream",
     "text": [
      "['manoj', 'kishore', 'sateesh', 'ram', 'karnati']\n"
     ]
    }
   ],
   "source": [
    "print(mystudent)"
   ]
  },
  {
   "cell_type": "code",
   "execution_count": 27,
   "metadata": {},
   "outputs": [
    {
     "name": "stdout",
     "output_type": "stream",
     "text": [
      "['karnati', 'kishore', 'manoj', 'ram', 'sateesh']\n"
     ]
    }
   ],
   "source": [
    "# Req : Oranize a list Alphabetically :\n",
    "mystudent.sort()\n",
    "print(mystudent)"
   ]
  },
  {
   "cell_type": "code",
   "execution_count": 28,
   "metadata": {},
   "outputs": [
    {
     "name": "stdout",
     "output_type": "stream",
     "text": [
      "['Shankar', 'sam', 'zaki', 'Mohammad', 'yaqoob']\n",
      "['Mohammad', 'Shankar', 'sam', 'yaqoob', 'zaki']\n"
     ]
    }
   ],
   "source": [
    "#sorted\n",
    "print(student)\n",
    "print(sorted(student))  ## Temporary change Only ** Imp"
   ]
  },
  {
   "cell_type": "code",
   "execution_count": 29,
   "metadata": {},
   "outputs": [
    {
     "name": "stdout",
     "output_type": "stream",
     "text": [
      "['yaqoob', 'Mohammad', 'zaki', 'sam', 'Shankar']\n"
     ]
    }
   ],
   "source": [
    "# Print list in reverse order :\n",
    "student.reverse()\n",
    "print(student)"
   ]
  },
  {
   "cell_type": "code",
   "execution_count": 30,
   "metadata": {},
   "outputs": [
    {
     "data": {
      "text/plain": [
       "5"
      ]
     },
     "execution_count": 30,
     "metadata": {},
     "output_type": "execute_result"
    }
   ],
   "source": [
    "# Find length of a list :\n",
    "len(student)"
   ]
  },
  {
   "cell_type": "code",
   "execution_count": 31,
   "metadata": {},
   "outputs": [
    {
     "name": "stdout",
     "output_type": "stream",
     "text": [
      "5\n"
     ]
    }
   ],
   "source": [
    "print(len(student))"
   ]
  }
 ],
 "metadata": {
  "kernelspec": {
   "display_name": "Python 3",
   "language": "python",
   "name": "python3"
  },
  "language_info": {
   "codemirror_mode": {
    "name": "ipython",
    "version": 3
   },
   "file_extension": ".py",
   "mimetype": "text/x-python",
   "name": "python",
   "nbconvert_exporter": "python",
   "pygments_lexer": "ipython3",
   "version": "3.7.4"
  }
 },
 "nbformat": 4,
 "nbformat_minor": 2
}
